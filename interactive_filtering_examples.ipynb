{
 "cells": [
  {
   "cell_type": "markdown",
   "metadata": {},
   "source": [
    "# 📊 인터랙티브 데이터 필터링 예제\n",
    "## 실제 사용 시나리오별 필터링 방법\n",
    "\n",
    "이 노트북에서는 실제 이메일 마케팅에서 자주 사용되는 필터링 시나리오들을 다룹니다."
   ]
  },
  {
   "cell_type": "code",
   "execution_count": null,
   "metadata": {},
   "outputs": [],
   "source": [
    "# 라이브러리 import 및 설정\n",
    "import pandas as pd\n",
    "import numpy as np\n",
    "import matplotlib.pyplot as plt\n",
    "import seaborn as sns\n",
    "from datetime import datetime, timedelta\n",
    "import re\n",
    "import warnings\n",
    "warnings.filterwarnings('ignore')\n",
    "\n",
    "# 한글 폰트 설정 (Mac용)\n",
    "plt.rcParams['font.family'] = 'AppleGothic'\n",
    "plt.rcParams['axes.unicode_minus'] = False\n",
    "\n",
    "# 데이터 로드\n",
    "data_path = '/Users/milo/Desktop/ocean/영중소구간필터링/202508최종취합/서울성남_통신판매사업자_완전통합.csv'\n",
    "df = pd.read_csv(data_path)\n",
    "\n",
    "print(f\"✅ 데이터 로드 완료: {len(df):,}개 레코드\")\n",
    "print(f\"📊 컬럼: {list(df.columns)}\")"
   ]
  },
  {
   "cell_type": "markdown",
   "metadata": {},
   "source": [
    "## 🎯 시나리오 1: 이메일 마케팅 가능한 타겟 추출\n",
    "유효한 이메일을 가진 업체들만 필터링"
   ]
  },
  {
   "cell_type": "code",
   "execution_count": null,
   "metadata": {},
   "outputs": [],
   "source": [
    "# 유효한 이메일을 가진 업체 필터링\n",
    "def get_valid_email_targets(df):\n",
    "    \"\"\"\n",
    "    이메일 마케팅이 가능한 타겟들을 추출\n",
    "    - 이메일이 존재하고\n",
    "    - 마스킹되지 않은 완전한 이메일\n",
    "    - 정상영업 상태\n",
    "    \"\"\"\n",
    "    filtered = df[\n",
    "        # 이메일이 존재하고\n",
    "        (df['전자우편'].notna()) & \n",
    "        (df['전자우편'] != '') &\n",
    "        # 마스킹되지 않은 완전한 이메일 (별표 없음)\n",
    "        (~df['전자우편'].str.contains('\\*', na=False)) &\n",
    "        # 정상영업 상태\n",
    "        (df['업소상태'] == '정상영업')\n",
    "    ].copy()\n",
    "    \n",
    "    return filtered\n",
    "\n",
    "# 실행\n",
    "email_targets = get_valid_email_targets(df)\n",
    "print(f\"🎯 이메일 마케팅 가능 타겟: {len(email_targets):,}개 ({len(email_targets)/len(df)*100:.1f}%)\")\n",
    "\n",
    "# 상위 10개 미리보기\n",
    "print(\"\\n📋 상위 10개 타겟:\")\n",
    "email_targets[['상호', '대표자명', '전자우편', '법인구분']].head(10)"
   ]
  },
  {
   "cell_type": "markdown",
   "metadata": {},
   "source": [
    "## 🏢 시나리오 2: 법인 vs 개인사업자 분석"
   ]
  },
  {
   "cell_type": "code",
   "execution_count": null,
   "metadata": {},
   "outputs": [],
   "source": [
    "# 법인구분별 분석\n",
    "business_type_analysis = email_targets['법인구분'].value_counts()\n",
    "print(\"📊 법인구분별 분포:\")\n",
    "for btype, count in business_type_analysis.items():\n",
    "    percentage = count / len(email_targets) * 100\n",
    "    print(f\"  {btype}: {count:,}개 ({percentage:.1f}%)\")\n",
    "\n",
    "# 시각화\n",
    "plt.figure(figsize=(10, 6))\n",
    "plt.subplot(1, 2, 1)\n",
    "business_type_analysis.plot(kind='pie', autopct='%1.1f%%')\n",
    "plt.title('법인구분별 분포')\n",
    "\n",
    "plt.subplot(1, 2, 2)\n",
    "business_type_analysis.plot(kind='bar')\n",
    "plt.title('법인구분별 개수')\n",
    "plt.xticks(rotation=45)\n",
    "\n",
    "plt.tight_layout()\n",
    "plt.show()"
   ]
  },
  {
   "cell_type": "markdown",
   "metadata": {},
   "source": [
    "## 🌐 시나리오 3: 온라인 플랫폼별 분류\n",
    "네이버, 쿠팡, 자체 웹사이트 등으로 분류"
   ]
  },
  {
   "cell_type": "code",
   "execution_count": null,
   "metadata": {},
   "outputs": [],
   "source": [
    "def categorize_platform(domain):\n",
    "    \"\"\"\n",
    "    인터넷도메인을 기반으로 플랫폼 분류\n",
    "    \"\"\"\n",
    "    if pd.isna(domain) or domain == '':\n",
    "        return '정보없음'\n",
    "    \n",
    "    domain_lower = str(domain).lower()\n",
    "    \n",
    "    if 'naver' in domain_lower or '네이버' in domain_lower or 'smartstore' in domain_lower:\n",
    "        return '네이버'\n",
    "    elif 'coupang' in domain_lower or '쿠팡' in domain_lower:\n",
    "        return '쿠팡'\n",
    "    elif 'gmarket' in domain_lower or 'g마켓' in domain_lower:\n",
    "        return 'G마켓'\n",
    "    elif 'auction' in domain_lower or '옥션' in domain_lower:\n",
    "        return '옥션'\n",
    "    elif 'toss' in domain_lower:\n",
    "        return '토스페이먼츠'\n",
    "    elif any(platform in domain_lower for platform in ['http', 'www', '.com', '.co.kr']):\n",
    "        return '자체웹사이트'\n",
    "    else:\n",
    "        return '기타플랫폼'\n",
    "\n",
    "# 플랫폼 분류 적용\n",
    "email_targets['플랫폼분류'] = email_targets['인터넷도메인'].apply(categorize_platform)\n",
    "\n",
    "# 플랫폼별 분석\n",
    "platform_analysis = email_targets['플랫폼분류'].value_counts()\n",
    "print(\"🌐 플랫폼별 분포:\")\n",
    "for platform, count in platform_analysis.items():\n",
    "    percentage = count / len(email_targets) * 100\n",
    "    print(f\"  {platform}: {count:,}개 ({percentage:.1f}%)\")\n",
    "\n",
    "# 시각화\n",
    "plt.figure(figsize=(12, 8))\n",
    "plt.subplot(2, 2, 1)\n",
    "platform_analysis.plot(kind='bar')\n",
    "plt.title('플랫폼별 업체 수')\n",
    "plt.xticks(rotation=45)\n",
    "\n",
    "plt.subplot(2, 2, 2)\n",
    "platform_analysis.plot(kind='pie', autopct='%1.1f%%')\n",
    "plt.title('플랫폼별 비율')\n",
    "\n",
    "# 법인구분 x 플랫폼 크로스탭\n",
    "plt.subplot(2, 2, 3)\n",
    "crosstab = pd.crosstab(email_targets['법인구분'], email_targets['플랫폼분류'])\n",
    "sns.heatmap(crosstab, annot=True, fmt='d', cmap='Blues')\n",
    "plt.title('법인구분 x 플랫폼 분포')\n",
    "\n",
    "plt.tight_layout()\n",
    "plt.show()\n",
    "\n",
    "print(\"\\n📊 법인구분 x 플랫폼 크로스탭:\")\n",
    "print(crosstab)"
   ]
  }
 ],
 "metadata": {
  "kernelspec": {
   "display_name": "Python 3",
   "language": "python",
   "name": "python3"
  },
  "language_info": {
   "name": "python",
   "version": "3.8.5"
  }
 },
 "nbformat": 4,
 "nbformat_minor": 4
}
