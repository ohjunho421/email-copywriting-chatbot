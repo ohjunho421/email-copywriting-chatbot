{
 "cells": [
  {
   "cell_type": "markdown",
   "metadata": {},
   "source": [
    "# 이메일 마케팅 데이터 필터링 시스템\n",
    "## 서울성남 통신판매사업자 데이터 분석 및 필터링\n",
    "\n",
    "이 노트북은 통신판매사업자 데이터를 효과적으로 필터링하고 분석하는 도구입니다."
   ]
  },
  {
   "cell_type": "code",
   "execution_count": null,
   "metadata": {},
   "outputs": [],
   "source": [
    "# 필요한 라이브러리 import\n",
    "import pandas as pd\n",
    "import numpy as np\n",
    "import matplotlib.pyplot as plt\n",
    "import seaborn as sns\n",
    "from datetime import datetime\n",
    "import re\n",
    "import warnings\n",
    "warnings.filterwarnings('ignore')\n",
    "\n",
    "# 한글 폰트 설정\n",
    "plt.rcParams['font.family'] = 'AppleGothic'\n",
    "plt.rcParams['axes.unicode_minus'] = False\n",
    "\n",
    "print(\"라이브러리 로딩 완료!\")"
   ]
  },
  {
   "cell_type": "code",
   "execution_count": null,
   "metadata": {},
   "outputs": [],
   "source": [
    "# 데이터 로드\n",
    "data_path = '/Users/milo/Desktop/ocean/영중소구간필터링/202508최종취합/서울성남_통신판매사업자_완전통합.csv'\n",
    "df = pd.read_csv(data_path)\n",
    "\n",
    "print(f\"데이터 로드 완료!\")\n",
    "print(f\"총 {len(df):,}개의 레코드\")\n",
    "print(f\"컬럼: {list(df.columns)}\")\n",
    "print(\"\\n데이터 미리보기:\")\n",
    "df.head()"
   ]
  },
  {
   "cell_type": "code",
   "execution_count": null,
   "metadata": {},
   "outputs": [],
   "source": [
    "# 데이터 기본 정보 확인\n",
    "print(\"=== 데이터 기본 정보 ===\")\n",
    "print(f\"데이터 형태: {df.shape}\")\n",
    "print(f\"\\n각 컬럼별 데이터 타입:\")\n",
    "print(df.dtypes)\n",
    "print(f\"\\n결측값 확인:\")\n",
    "print(df.isnull().sum())\n",
    "print(f\"\\n중복값 확인: {df.duplicated().sum()}개\")"
   ]
  }
 ],
 "metadata": {
  "kernelspec": {
   "display_name": "Python 3",
   "language": "python",
   "name": "python3"
  },
  "language_info": {
   "codemirror_mode": {
    "name": "ipython",
    "version": 3
   },
   "file_extension": ".py",
   "mimetype": "text/x-python",
   "name": "python",
   "nbconvert_exporter": "python",
   "pygments_lexer": "ipython3",
   "version": "3.8.5"
  }
 },
 "nbformat": 4,
 "nbformat_minor": 4
}
